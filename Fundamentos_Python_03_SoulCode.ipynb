{
  "nbformat": 4,
  "nbformat_minor": 0,
  "metadata": {
    "colab": {
      "provenance": [],
      "collapsed_sections": [
        "zFEqQKEFxhEX",
        "iZmiqJ_o4DB5",
        "RT6-u9yqXOrf"
      ],
      "include_colab_link": true
    },
    "kernelspec": {
      "name": "python3",
      "display_name": "Python 3"
    },
    "language_info": {
      "name": "python"
    }
  },
  "cells": [
    {
      "cell_type": "markdown",
      "metadata": {
        "id": "view-in-github",
        "colab_type": "text"
      },
      "source": [
        "<a href=\"https://colab.research.google.com/github/lucaskrlima/bootcamp_soulcode_da/blob/main/Fundamentos_Python_03_SoulCode.ipynb\" target=\"_parent\"><img src=\"https://colab.research.google.com/assets/colab-badge.svg\" alt=\"Open In Colab\"/></a>"
      ]
    },
    {
      "cell_type": "markdown",
      "source": [
        "## Listas"
      ],
      "metadata": {
        "id": "zFEqQKEFxhEX"
      }
    },
    {
      "cell_type": "markdown",
      "source": [
        "* Uma Lista em Python, é que uma coleção ordenada de valores, separados por\n",
        "  vírgula e dentro de colchetes [].\n",
        "\n",
        "* Elas são utilizadas para armazenar diversos itens em uma única variável."
      ],
      "metadata": {
        "id": "B-UFJx34JpJ4"
      }
    },
    {
      "cell_type": "code",
      "execution_count": null,
      "metadata": {
        "id": "Xi3Rwln0xTdw"
      },
      "outputs": [],
      "source": [
        "# criando uma lista com strings\n",
        "nomes = ['Douglas', 'Daniela', 'Pedro', 'Maria', 'Eduardo', 'Ester']\n",
        "\n",
        "# criando uma lista com números inteiros\n",
        "pesos = [78, 25, 98, 63, 92, 67]\n",
        "\n",
        "# criando uma lista com números fracionários\n",
        "alturas = [1.85, 1.29, 1.75, 1.67, 1.82, 1.70]"
      ]
    },
    {
      "cell_type": "code",
      "source": [
        "# forçando um erro usando o remove\n",
        "nomes.remove('xerox')\n",
        "print(nomes)"
      ],
      "metadata": {
        "id": "wWCtRs7t11f7"
      },
      "execution_count": null,
      "outputs": []
    },
    {
      "cell_type": "code",
      "source": [
        "# solução 1\n",
        "teste = input('Informe o nome que deseja excluir da lista: ') # recebe um nome do usuário e o guarda na variável teste\n",
        "teste = teste.capitalize() # Padroniza a variável teste com a primeira letra maiúscula\n",
        "if teste in nomes: # verifica se o nome armazenado em teste está na lista de nomes\n",
        "  nomes.remove(teste) # se somente se o nome armazenado em teste estiver na lista, faz a exclusão\n",
        "  print(f'O nome {teste} foi exluído com sucesso') # imprime o resultado da exclusão se somente se ela for feita\n",
        "else:\n",
        "  print(f'O nome {teste} não está na lista, logo não pode ser excluído') # Caso o nome digitado não esteja na lista informa o usuário essa situação"
      ],
      "metadata": {
        "id": "YtUtiTiyyQrl"
      },
      "execution_count": null,
      "outputs": []
    },
    {
      "cell_type": "code",
      "source": [
        "# solução 2 (utlizando try/except)\n",
        "teste2 = input('Informe o nome que deseja excluir da lista: ') # recebe um nome do usuário e o guarda na variável teste\n",
        "teste2 = teste2.capitalize()# Padroniza a variável teste com a primeira letra maiúscula\n",
        "try: # comando para tentar fazer alguma ação\n",
        "  nomes.remove(teste2) # ação que será feita caso a tentativa seja bem sucedida (neste caso se o nome digitado estiver na lista)\n",
        "  print(f'O nome {teste2} foi excluído com sucesso') # imprime o resultado da exclusão se somente se ela for feita\n",
        "except: # comando para o caso da tentativa (try) ser mal sucedida (no caso se o nome não estiver na lista)\n",
        "  print(f'O nome {teste2} não está na lista, logo não pode ser excluído') # Caso o nome digitado não esteja na lista informa o usuário essa situação"
      ],
      "metadata": {
        "id": "ADgFfeAoyaeB"
      },
      "execution_count": null,
      "outputs": []
    },
    {
      "cell_type": "markdown",
      "source": [
        "Exemplo extra: apareceu em uma dúvida na hora da aula"
      ],
      "metadata": {
        "id": "slfrtN8QO397"
      }
    },
    {
      "cell_type": "code",
      "source": [
        "try:\n",
        "  ida = int(input('Informe sua idade em anos: '))\n",
        "  if ida >= 18:\n",
        "    print('maior de idade')\n",
        "  elif ida < 0:\n",
        "    print('você digitou uma idade negativa é isso mesmo? ')\n",
        "except:\n",
        "  print('você não informou um número, por favor reinicie o código e digite um número')"
      ],
      "metadata": {
        "id": "azAqdM1MME-q"
      },
      "execution_count": null,
      "outputs": []
    },
    {
      "cell_type": "code",
      "source": [
        "# criando uma lista com strings\n",
        "nomes = ['Douglas', 'Daniela', 'Pedro', 'Maria', 'Eduardo', 'Ester']\n",
        "\n",
        "# criando uma lista com números inteiros\n",
        "pesos = [78, 25, 98, 63, 92, 67]\n",
        "\n",
        "# criando uma lista com números fracionários\n",
        "alturas = [1.85, 1.29, 1.75, 1.67, 1.82, 1.70]\n",
        "\n",
        "# Tamanho da lista len(lista)\n",
        "print(len(nomes))\n",
        "\n",
        "# Maior valor da lista\n",
        "print(max(pesos))\n",
        "\n",
        "# Menor valor da lista\n",
        "print(min(alturas))\n",
        "\n",
        "# Soma dos valores de uma lista\n",
        "print(sum(alturas))\n",
        "\n",
        "# Contando a frequência de um valor em uma lista\n",
        "print(nomes.count('Douglas'))\n",
        "\n",
        "# Ordenar uma lista crescente\n",
        "nomes.sort()\n",
        "print(nomes)\n",
        "# Ordenar uma lista decrescente\n",
        "nomes.sort(reverse=True)\n",
        "print(nomes)"
      ],
      "metadata": {
        "id": "SXMu5HeWyd4q"
      },
      "execution_count": null,
      "outputs": []
    },
    {
      "cell_type": "code",
      "source": [
        "# Adicionando todos os elementos de uma lista em outra usando o método extend\n",
        "# Melhor para alteração no banco de dados\n",
        "nomes1 = ['Zé', 'Mané']\n",
        "nomes2 = ['Ana', 'José']\n",
        "\n",
        "nomes1.extend(nomes2)\n",
        "\n",
        "print(nomes1)"
      ],
      "metadata": {
        "id": "9PXa5yVXy75H"
      },
      "execution_count": null,
      "outputs": []
    },
    {
      "cell_type": "code",
      "source": [
        "# Adicionando todos os elementos de uma lista em outra usando sinal de (+) (concatenando listas)\n",
        "# Melhor para filtro\n",
        "nomes1 = ['Zé', 'Mané']\n",
        "nomes2 = ['Ana', 'José']\n",
        "\n",
        "teste = nomes1 + nomes2\n",
        "print(teste)"
      ],
      "metadata": {
        "id": "PWRscUlrzitr"
      },
      "execution_count": null,
      "outputs": []
    },
    {
      "cell_type": "code",
      "source": [
        "# Colocando uma lista dentro de outra\n",
        "carros = ['Fusca', 'Gol']\n",
        "carros2 = ['Uno', 'Punto', 'Bravo']\n",
        "carros.append(carros2)\n",
        "print(carros)"
      ],
      "metadata": {
        "id": "CK6fgBNkyj8I"
      },
      "execution_count": null,
      "outputs": []
    },
    {
      "cell_type": "code",
      "source": [
        "# Acesssando uma lista da outra\n",
        "fiat = carros[2]\n",
        "print(fiat)"
      ],
      "metadata": {
        "id": "aEbtd01wypPZ"
      },
      "execution_count": null,
      "outputs": []
    },
    {
      "cell_type": "code",
      "source": [
        "# acessando um item de uma lista que está dentro de outra\n",
        "ok = carros[2][0]\n",
        "print(f'O melhor carro de todos os tempos é {ok}')"
      ],
      "metadata": {
        "id": "EpUjdG5Xysct"
      },
      "execution_count": null,
      "outputs": []
    },
    {
      "cell_type": "markdown",
      "source": [
        "Função Range"
      ],
      "metadata": {
        "id": "A0PyChFX30TF"
      }
    },
    {
      "cell_type": "code",
      "source": [
        "# Função range com um argumento cria um lista com n valores inteiros de 0 a a n-1\n",
        "lista1 = list(range(5))\n",
        "print(lista1)\n",
        "# Função range com dois argumentos cria um lista com n valores inteiros do início informado no primeiro argumento até  ((n-1) - primeiro argumento informado) informado no segundo argumento\n",
        "lista2 = list(range(1,5))\n",
        "print(lista2)\n",
        "# Função range com três argumentos cria um lista com definição de onde começar (primeiro argumento), onde parar (segundo argumento) e de qual tamando de intervalo entre os valores (terceiro argumento)\n",
        "lista3 = list(range(1,5,2))\n",
        "print(lista3)"
      ],
      "metadata": {
        "id": "UfUkWKBX3VwL"
      },
      "execution_count": null,
      "outputs": []
    },
    {
      "cell_type": "markdown",
      "source": [
        "# Estruturas de repetição"
      ],
      "metadata": {
        "id": "iZmiqJ_o4DB5"
      }
    },
    {
      "cell_type": "markdown",
      "source": [
        "\" for \"\n",
        "\n",
        "O for é utilizado para percorrer ou iterar sobre uma sequência de dados (seja esse uma lista, uma tupla, uma string), executando um conjunto de instruções em cada item.\n",
        "\n",
        " sintaxe básica é: for <nome variável> in < objeto>:\n",
        "\n",
        "* <nome variável> é o nome da variável que vai receber os elemento de\n",
        "  <iterável>.\n",
        "* < objeto>  é o container de dados sobre o qual vamos iterar, podendo ser: uma lista, uma tupla, uma string, um dicionário, entre outros."
      ],
      "metadata": {
        "id": "8yqkZFhpOsry"
      }
    },
    {
      "cell_type": "code",
      "source": [
        "# Apresentando e utilizando o for de forma simples\n",
        "pesos = [78, 25, 98, 63, 92, 67]\n",
        "for peso in pesos:\n",
        "  print(peso)"
      ],
      "metadata": {
        "id": "qJQPE5C74V9S"
      },
      "execution_count": null,
      "outputs": []
    },
    {
      "cell_type": "code",
      "source": [
        "# Utilizando o for com else\n",
        "for i in pesos:\n",
        "    print(i)\n",
        "else:\n",
        "    print('Todos os items foram exibidos com sucesso')"
      ],
      "metadata": {
        "id": "vAC1jmyL5o0j"
      },
      "execution_count": null,
      "outputs": []
    },
    {
      "cell_type": "code",
      "source": [
        "notas = [5, 9, 6, 8, 7]\n",
        "for i in notas:\n",
        "  print(i)"
      ],
      "metadata": {
        "id": "Tbpshcfzkt1P"
      },
      "execution_count": null,
      "outputs": []
    },
    {
      "cell_type": "markdown",
      "source": [
        "Função enumerate"
      ],
      "metadata": {
        "id": "XpB0gAgXjRCK"
      }
    },
    {
      "cell_type": "code",
      "source": [
        "notas = [5, 9, 6, 8, 7]\n",
        "\n",
        "for i, v in enumerate(notas):\n",
        "  print(i,v)"
      ],
      "metadata": {
        "id": "sDDNSetwindE"
      },
      "execution_count": null,
      "outputs": []
    },
    {
      "cell_type": "code",
      "source": [
        "notas = [5, 9, 6, 8, 7] # Recebe uma lista com várias notas\n",
        "# Objetivo: percorrer toda a lista de notas e para cada valor encontrado testar se o mesmo é ou não maior ou igual a 7\n",
        "# Se verdadeiro imprima a mensagem aprovado e sua nota\n",
        "# Se falso imprima reprovado e sua nota\n",
        "for i, v in enumerate(notas): # primeira variável é o índice e a segunda variável é o valor\n",
        "  if notas[i] >= 7: # se uma nota qualquer encontrada for maio ou igual a 7 faça algo\n",
        "    print(f'aprovado com nota {notas[i]}') # se verdadeiro imprima aprovado e sua nota\n",
        "  else:\n",
        "    print(f'reprovado com nota {notas[i]}') # se não for verdadeiro imprima reprovado e sua nota\n",
        "  print(notas[i])"
      ],
      "metadata": {
        "id": "5LpJitovfoWV"
      },
      "execution_count": null,
      "outputs": []
    },
    {
      "cell_type": "code",
      "source": [
        "notas[0]"
      ],
      "metadata": {
        "id": "4TpS0R-hmqUH"
      },
      "execution_count": null,
      "outputs": []
    },
    {
      "cell_type": "code",
      "source": [
        "# Utilizando o for com range\n",
        "alturas = [1.85, 1.29, 1.75, 1.67, 1.82, 1.70]\n",
        "alturas_quad = []\n",
        "imc = []\n",
        "for i in range(len(alturas)):\n",
        "  alturas_quad.append(alturas[i]**2)\n",
        "  imc.append(pesos[i]/alturas_quad[i])\n",
        "print(f'IMC {imc}')"
      ],
      "metadata": {
        "id": "p51VHrjT6La2"
      },
      "execution_count": null,
      "outputs": []
    },
    {
      "cell_type": "code",
      "source": [
        "# Utilizando o for com range\n",
        "alturas = [1.85, 1.29, 1.75, 1.67, 1.82, 1.70]\n",
        "pesos = [78, 25, 98, 63, 92, 67]\n",
        "alturas_quad = []\n",
        "imc = []\n",
        "for i in range(len(alturas)):\n",
        "  alturas_quad.append(alturas[i]**2)\n",
        "  imc.append(pesos[i]/alturas_quad[i])\n",
        "print(f'IMC {imc}')\n",
        "print(alturas_quad)"
      ],
      "metadata": {
        "id": "wbihBmPJpphR"
      },
      "execution_count": null,
      "outputs": []
    },
    {
      "cell_type": "code",
      "source": [
        "# Utilizando o for com enumerate\n",
        "alturas_quad = []\n",
        "imc = []\n",
        "for i, v in enumerate(pesos):\n",
        "  print(i)\n",
        "  print(v)\n",
        "  alturas_quad.append(alturas[i]**2)\n",
        "  imc.append(pesos[i]/alturas_quad[i])\n",
        "print(f'IMC {imc}')"
      ],
      "metadata": {
        "id": "yevV3zUk-cKy"
      },
      "execution_count": null,
      "outputs": []
    },
    {
      "cell_type": "markdown",
      "source": [
        "Exerícios\n",
        "\n",
        "1 - Crie um script que receba do usuário uma lista de n números inteiros digitados pelo usuário na mesma caixa de entrada separados por espaços e após isso utilize o método split para separar esses números e armazená-los em uma lista acesse o índice 0 dessa nova lista e verifique seu tipo e caso seja o tipo inteiro imprima para o usuário a seguinte mensagem: este valor é do tipo inteiro, caso contrário imprima: este valor não é do tipo inteiro."
      ],
      "metadata": {
        "id": "DEus1U-rQCyg"
      }
    },
    {
      "cell_type": "code",
      "source": [
        "# recebe n números \"inteiros\" digitados pelo usuário na \"mesma caixa\" separados por espaços\n",
        "num = input('Digite n números inteiros separados por espaços: ')\n",
        "# método split para separar os números e armazená-los em uma lista\n",
        "num_list = num.split()\n",
        "\n",
        "if type(num_list[0]) == int: # acessa o indice 0 da nova lista verifica se o tipo do indice 0 é inteiro\n",
        "  print(f'O valor {num_list[0]} é do tipo inteiro!') #imprime uma mensagem ao usuário.\n",
        "else:\n",
        "  print(f'O valor {num_list[0]} não é do tipo inteiro!')\n"
      ],
      "metadata": {
        "id": "7AY-RinxQNMT"
      },
      "execution_count": null,
      "outputs": []
    },
    {
      "cell_type": "markdown",
      "source": [
        "2 - Crie um script que aproveite a lista utilizada para imprimir a mensagem do exercício anterior e utilize uma estrutura for que percorra toda a lista e faça a tipagem de cada valor como inteiro, após isso acesse o índice 0 dessa nova lista e verifique seu tipo e caso seja o tipo inteiro imprima para o usuário a seguinte mensagem: este valor é do tipo inteiro, caso contrário imprima: este valor não é do tipo inteiro."
      ],
      "metadata": {
        "id": "dDkYe0IBQVKJ"
      }
    },
    {
      "cell_type": "code",
      "source": [
        "num = input('Digite n números inteiros separados por espaços: ')\n",
        "num_list = num.split()\n",
        "num_tipado = [] # lista vazia\n",
        "# tipagem como inteiro estrutura for\n",
        "for i in range(len(num_list)): # cria uma lista auxiliar com o tamanho de dados digitado pelo usuário\n",
        "  num_tipado.append(num_list[i]) # pega valor de num_list e adiciona em num_tipado\n",
        "  num_tipado[i] = int(num_tipado[i]) # pega cada valor que você encontrar em num_list e tipe para inteiro\n",
        "\n",
        "if type(num_tipado[0]) == int: # acessa o indice 0 da nova lista verifica se o tipo do indice 0 é inteiro\n",
        "  print(f'O valor {num_tipado[0]} é do tipo inteiro!') #imprime uma mensagem ao usuário.\n",
        "else:\n",
        "  print(f'O valor {num_tipado[0]} não é do tipo inteiro!')"
      ],
      "metadata": {
        "id": "cQ7mLPqLQV3B"
      },
      "execution_count": null,
      "outputs": []
    },
    {
      "cell_type": "markdown",
      "source": [
        "3 - Utilizando a lista tipada como int do exercício 2, faça um print que exiba a soma de todos os valores dessa lista."
      ],
      "metadata": {
        "id": "RVGux6JcQeix"
      }
    },
    {
      "cell_type": "code",
      "source": [
        "num = input('Digite n números inteiros separados por espaços: ')\n",
        "num_list = num.split()\n",
        "num_tipado = [] # lista vazia\n",
        "# tipagem como inteiro estrutura for\n",
        "for i in range(len(num_list)): # cria uma lista auxiliar com o tamanho de dados digitado pelo usuário\n",
        "  num_tipado.append(num_list[i]) # pega valor de num_list e adiciona em num_tipado\n",
        "  num_tipado[i] = int(num_tipado[i]) # pega cada valor que você encontrar em num_list e tipe para inteiro\n",
        "print(f'a soma de todos os valores informados é {sum(num_tipado)}')"
      ],
      "metadata": {
        "id": "9pU0RvZqQfZ-"
      },
      "execution_count": null,
      "outputs": []
    },
    {
      "cell_type": "markdown",
      "source": [
        "4 - Crie uma lista vazia denominada quadrados e utilizando a lista tipada como int do exercício 2, faça uma estrutura do tipo for que percorra cada elemento dessa lista de números inteiros, eleve cada valor encontrado ao quadrado e insira cada resultado na lista quadrados e ao final exiba a soma dos valores da lista quadrados."
      ],
      "metadata": {
        "id": "OvcIL9nmQjaW"
      }
    },
    {
      "cell_type": "code",
      "source": [
        "num = input('Digite n números inteiros separados por espaços: ')\n",
        "num_list = num.split()\n",
        "num_tipado = [] # lista vazia\n",
        "quadrados = [] # lista vazia quadrado\n",
        "# tipagem como inteiro estrutura for\n",
        "for i in range(len(num_list)): # cria uma lista auxiliar com o tamanho de dados digitado pelo usuário\n",
        "  num_tipado.append(num_list[i]) # pega valor de num_list e adiciona em num_tipado\n",
        "  num_tipado[i] = int(num_tipado[i]) # pega cada valor que você encontrar em num_list e tipe para inteiro\n",
        "  quadrados.append(num_tipado[i]**2)# cada dado tipado\n",
        "print(f'a soma de todos os valores informados elevado ao quadrado é {sum(quadrados)}')"
      ],
      "metadata": {
        "id": "CGNj6bF0Qm-h"
      },
      "execution_count": null,
      "outputs": []
    },
    {
      "cell_type": "markdown",
      "source": [
        "5 - Crie um programa que receba do usuário duas listas de n números inteiros digitados pelo usuário separados por espaços e após isso utilize o método split para dividir cada lista gerando duas novas listas chamadas x e y é importante deixar claro para o usuário que as duas listas digitadas devem ter a mesma quantidade de números digitados independente de quantos sejam. Após isso, faça a tipagem de todos os números das duas listas como float, então crie três novas listas vazias: xquad, yquad e xy. Agora preencha a lista xquad com cada elemento da lista x elevado ao quadrado, depois faça o mesmo para yquad, elevando cada elemento de y ao quadrado e por último preencha a lista xy fazendo a multiplicação de cada valor da lista x pelo seu correspondente na lista y. No final crie a variável sx que recebe a soma dos valores da lista x, a variável sy que recebe a soma dos valores da lista y, a variável sxquad, que recebe a soma da lista xquad, a variável syquad que recebe a soma da lista de yquad e a variável sxy que recebe a soma da lista de xy e no final imprima todas as variáveis de soma criadas."
      ],
      "metadata": {
        "id": "GshcHh0FQrvi"
      }
    },
    {
      "cell_type": "code",
      "source": [
        "# recebe duas lista de n numeros inteiros digitados pelo usuário\n",
        "n1 = input('Informe uma sequencia de numeros inteiros separados por espaços: ')\n",
        "n2 = input('Informe outra sequencia de numeros inteiros com a mesma quantidade informada na lista anterior: ')\n",
        "\n",
        "# novas list x e y a partir das listas acima com o método split\n",
        "x = n1.split()\n",
        "y = n2.split()\n",
        "\n",
        "for i in range(len(x)): # para cada indice i em algum lugar faça uma lista auxiliar de tamanho x\n",
        "  x[i] = float(x[i]) # rescreve cada valor em x na posição i como float\n",
        "  y[i] = float(y[i]) # rescreve cada valor em y na posição i como float\n",
        "\n",
        "# novas listas vazias\n",
        "xquad = []\n",
        "yquad = []\n",
        "xy = []\n",
        "\n",
        "# preencendo lista\n",
        "for i in range(len(x)): # como o tamanho da lista é o mesmo, usamos um for\n",
        "  # eleva cada elemento da lista criadas ao quadrado\n",
        "  xquad.append(x[i]**2)\n",
        "  yquad.append(y[i]**2)\n",
        "  xy.append(x[i]*y[i])\n",
        "\n",
        "# soma de cada uma das lista\n",
        "sx = sum(x)\n",
        "sy = sum(y)\n",
        "sxquad = sum(xquad)\n",
        "syquad = sum(yquad)\n",
        "sxy = sum(xy)\n",
        "\n",
        "# informando os valores\n",
        "print(f'A soma de valores de x é {sx}')\n",
        "print(f'A soma de valores de y é {sy}')\n",
        "print(f'A soma de valores de xsquad é {sxquad}')\n",
        "print(f'A soma de valores de ysquad é {syquad}')\n",
        "print(f'A soma de valores de xy é {sxy}')"
      ],
      "metadata": {
        "id": "vFZEElLyQvTd"
      },
      "execution_count": null,
      "outputs": []
    },
    {
      "cell_type": "markdown",
      "source": [
        "\" While \"\n",
        "\n",
        "Estrutura de repetição utilizada quando queremos que determinado bloco de código seja executado ENQUANTO (do inglês while) determinada condição for satisfeita.\n",
        "\n",
        "* <condição> é uma expressão que pode ser reduzida à True ou False, podendo\n",
        " ser:\n",
        "\n",
        "  * A verificação do valor de uma variável;\n",
        "  * Determinada estrutura de dados alcançar um tamanho;\n",
        "  * O retorno de uma função se igualar a determinado valor;\n",
        "  * Algum valor externo ser alterado (por exemplo um valor armazenado em Banco de Dados)."
      ],
      "metadata": {
        "id": "_zxkGu3RRBaA"
      }
    },
    {
      "cell_type": "code",
      "source": [
        "c = 0               # contador\n",
        "v = [j, k]\n",
        "n = int(input('Informe quantos dias tem uma semana: '))\n",
        "\n",
        "while c < n:        # enquanto c < n faça:\n",
        "\n",
        "  v.append(v[0]*k[1])\n",
        "  print('Hello')\n",
        "  c += 1            # contador/incremento\n",
        "\n"
      ],
      "metadata": {
        "id": "AWcuWUJSRO4I"
      },
      "execution_count": null,
      "outputs": []
    },
    {
      "cell_type": "code",
      "source": [
        "# faça um script que receba 5 numeros inteiros do usuário\n",
        "# armazena em uma lista\n",
        "# realize a soma dos valore\n",
        "\n",
        "# 1 forma de resolver\n",
        "n1 = int(input('Digite o primeiro numero: '))\n",
        "n2 = int(input('Digite o segundo numero: '))\n",
        "n3 = int(input('Digite o terceiro numero: '))\n",
        "n4 = int(input('Digite o quarto numero: '))\n",
        "n5 = int(input('Digite o quinto numero: '))\n",
        "\n",
        "numeros = [n1, n2, n3, n4, n5]\n",
        "\n",
        "print(f'A soma dos numeros recebidos é {sum(numeros)}')"
      ],
      "metadata": {
        "id": "EfPyfBeeR97x"
      },
      "execution_count": null,
      "outputs": []
    },
    {
      "cell_type": "code",
      "source": [
        "#faça um script que receba 5 numeros inteiros do usuário\n",
        "# armazena em uma lista\n",
        "# realize a soma dos valore\n",
        "\n",
        "# 2 forma de resolver uso do método append\n",
        "numeros = []\n",
        "n1 = int(input('Digite o primeiro numero: '))\n",
        "numeros.append(n1)\n",
        "n2 = int(input('Digite o segundo numero: '))\n",
        "numeros.append(n2)\n",
        "n3 = int(input('Digite o terceiro numero: '))\n",
        "numeros.append(n3)\n",
        "n4 = int(input('Digite o quarto numero: '))\n",
        "numeros.append(n4)\n",
        "n5 = int(input('Digite o quinto numero: '))\n",
        "numeros.append(n5)\n",
        "\n",
        "print(f'A soma dos numeros recebidos é {sum(numeros)}')"
      ],
      "metadata": {
        "id": "Y7PyfaswSIzR"
      },
      "execution_count": null,
      "outputs": []
    },
    {
      "cell_type": "code",
      "source": [
        "#faça um script que receba n numeros inteiros do usuário\n",
        "# armazena em uma lista\n",
        "# realize a soma dos valores\n",
        "\n",
        "\n",
        "list_num = []\n",
        "c = 0\n",
        "\n",
        "qn = int(input(\"Informe a quantidade de números gostaria de digitar: \"))\n",
        "\n",
        "while c < qn:        # enquanto c < qn faça:\n",
        "  n = int(input('Informe n números inteiros: : '))\n",
        "  list_num.append(n)\n",
        "  c += 1            # contador/incremento\n",
        "print(f'A soma dos números é {sum(list_num)}')\n"
      ],
      "metadata": {
        "id": "Obx4hcKbSMNU"
      },
      "execution_count": null,
      "outputs": []
    },
    {
      "cell_type": "code",
      "source": [
        "#faça um script que receba n numeros inteiros do usuário\n",
        "# armazena em uma lista\n",
        "# realize a soma dos valores\n",
        "\n",
        "\n",
        "list_num = []\n",
        "c = 0\n",
        "\n",
        "qn = int(input(\"Informe a quantidade de números gostaria de digitar: \"))\n",
        "\n",
        "while c < qn:        # enquanto c < qn faça:\n",
        "  list_num.append(int(input(f'Informe o {c+1} número inteiros:  ')))\n",
        "  c += 1            # contador/incremento\n",
        "print(f'A soma dos números é {sum(list_num)}')"
      ],
      "metadata": {
        "id": "R0k0gZ5bSd3h"
      },
      "execution_count": null,
      "outputs": []
    },
    {
      "cell_type": "markdown",
      "source": [
        "Exercício\n",
        "\n",
        "Faça um programa que receba do usuário n numeros inteiros. Insira eles na lista somente se o número for impar. Encerre o programa quando a lista tiver 5 números impares"
      ],
      "metadata": {
        "id": "yANjvHx2SmaE"
      }
    },
    {
      "cell_type": "code",
      "source": [
        "listan = []\n",
        "\n",
        "while len(listan) < 5:\n",
        "  n = int(input('Informe um numero inteiro '))\n",
        "  if n % 2 != 0:\n",
        "    listan.append(n)\n",
        "print(listan)"
      ],
      "metadata": {
        "id": "BZXyciprSfZ2"
      },
      "execution_count": null,
      "outputs": []
    },
    {
      "cell_type": "code",
      "source": [
        "'''\n",
        "Faça um script que receba do usuário n números inteiros, armazene os\n",
        "números recebidos a cada momento em que forem recebidos em uma lista e\n",
        "no final exiba a soma desses valores. Considere que o usuário deverá informar\n",
        "apenas 1 numero inteiro por caixa de diálogo é permitido usar (While)\n",
        "'''\n",
        "c = 0 # criei um contador para utilizar como parada do laço while\n",
        "while True:\n",
        "  try:\n",
        "    n = int(input('Informe a qtde de números inteiros que deseja na lista: '))\n",
        "    break\n",
        "  except:\n",
        "    pass\n",
        "  print(f'''Cuidado! você não digitou um número inteiro, por favor faça isso''')\n",
        "numeros = []\n",
        "while c < n:\n",
        "  try:\n",
        "    i = int(input(f'Informe o {c+1}º número inteiro da lista: '))\n",
        "    numeros.append(i)\n",
        "    c += 1\n",
        "  except:\n",
        "    pass\n",
        "    print(f'''Cuidado! você não digitou um número inteiro, por favor,\n",
        "    digite o {c+1}º número nvamente''')\n",
        "print(f'A soma dos valores digitados é {sum(numeros)}')"
      ],
      "metadata": {
        "id": "5YuWtb-4Sskg"
      },
      "execution_count": null,
      "outputs": []
    },
    {
      "cell_type": "markdown",
      "source": [
        "#Funções"
      ],
      "metadata": {
        "id": "RT6-u9yqXOrf"
      }
    },
    {
      "cell_type": "code",
      "source": [
        "'''\n",
        "def nomedafuncao (argumento 1, argumento 2, .... argumento n):\n",
        "  bloco de código ou bloco de instruções\n",
        "  return \"valor\"\n",
        "'''"
      ],
      "metadata": {
        "id": "JqbERVR3XROR"
      },
      "execution_count": null,
      "outputs": []
    },
    {
      "cell_type": "code",
      "source": [
        "# Exemplo de função sem argumento e sem bloco de código\n",
        "def teste ():\n",
        "  return print('Bom dia!')"
      ],
      "metadata": {
        "id": "sAouzkxTXW22"
      },
      "execution_count": null,
      "outputs": []
    },
    {
      "cell_type": "code",
      "source": [
        "# Chamando a função teste criada no bloco anterior\n",
        "teste()"
      ],
      "metadata": {
        "id": "kU_-rwjGXZOp"
      },
      "execution_count": null,
      "outputs": []
    },
    {
      "cell_type": "code",
      "source": [
        "# Exemplo de função com argumento e com bloco de código\n",
        "# crie uma função que receba dois argumentos (x, y) e faça o cálculo de x ** y\n",
        "def casamento (x, y):\n",
        "  vezes = x ** y\n",
        "  return print(f'O professor douglas casará {vezes} vezes nessa vida')"
      ],
      "metadata": {
        "id": "TYgNkcAAXcvD"
      },
      "execution_count": null,
      "outputs": []
    },
    {
      "cell_type": "code",
      "source": [
        "# chamando a função utilizando a ordem padrão dos argumentos\n",
        "casamento(2, 3)\n"
      ],
      "metadata": {
        "id": "KCwdIo7gXgN1"
      },
      "execution_count": null,
      "outputs": []
    },
    {
      "cell_type": "code",
      "source": [
        "# Chamando a função invertendo a ordem padrão dos argumentos sem aviso prévio (vai mudar o resultado anterior)\n",
        "casamento(3, 2)"
      ],
      "metadata": {
        "id": "0m6Jg_1tXkCy"
      },
      "execution_count": null,
      "outputs": []
    },
    {
      "cell_type": "code",
      "source": [
        "# Para inverter a ordem padrão dos argumentos é necessário explicitar os valores dos argumentos\n",
        "casamento(y=3, x=2)"
      ],
      "metadata": {
        "id": "FmWCz4Q6XnM9"
      },
      "execution_count": null,
      "outputs": []
    },
    {
      "cell_type": "code",
      "source": [
        "# Também é possível ser redundante e respeitar a ordem padrão dos argumentos e explicitar os seus valores\n",
        "casamento(x=2, y=3)"
      ],
      "metadata": {
        "id": "4XnarostXr6y"
      },
      "execution_count": null,
      "outputs": []
    },
    {
      "cell_type": "code",
      "source": [
        "'''\n",
        "Elabore uma função que receba do usuário os valores de preço de venda (p),\n",
        "custo variável (cv), custo fixo (cf) e calcule o valor do ponto de equlíbrio\n",
        "em quantidade e informe o usuário.\n",
        "'''\n",
        "def peq ():\n",
        "  p = float(input('Informe o valor do preço unitário de venda em R$: '))\n",
        "  cv = float(input('Informe o valor do custo variável unitário em R$: '))\n",
        "  cf = float(input('Informe o valor do custo fixo mensal em R$: '))\n",
        "  qt = cf/(p - cv)\n",
        "  return print(f'A partir de aproximadamente {qt:.0f} unidades você terá lucro')"
      ],
      "metadata": {
        "id": "zLfCEVggXsys"
      },
      "execution_count": null,
      "outputs": []
    },
    {
      "cell_type": "markdown",
      "source": [
        "Exercícios"
      ],
      "metadata": {
        "id": "T8NBKGdSXydR"
      }
    },
    {
      "cell_type": "code",
      "source": [
        "'''\n",
        "Elabore uma função que receba em seis inputs diferentes as seguintes informações:\n",
        "1 - Receita líquida em R$\n",
        "2 - Custo em R$\n",
        "3 - Estoques em R$\n",
        "4 - Contas a receber em R$\n",
        "5 - Fornecedores em R$\n",
        "6 - O Número de dias do balanço (int)\n",
        "\n",
        "Após receber as informações acima a função deve calcular o valor e printá-lo dos\n",
        "seguintes KPIs:\n",
        "\n",
        "a Prazo médio de estoques - PME\n",
        "b Prazo médio de Recebimento - PMR\n",
        "c Prazo médio de Pagamento PMP\n",
        "d Ciclo operacional - CO\n",
        "e Ciclo de caixa CC\n",
        "\n",
        "E por último:\n",
        "Se PMP for maior que ciclo operacional print a mensagem essa em média empresa\n",
        "paga tantos dias depois de receber\n",
        "\n",
        "Se PMP for menor que ciclo operacional print a mensagem essa em média empresa\n",
        "paga tantos dias antes de receber\n",
        "\n",
        "Se PMP for igual ao ciclo operacional print a mensagem essa em média empresa\n",
        "no mesmo dia em que recebe\n",
        "\n",
        "'''\n",
        "def giro ():\n",
        "  receita = float(input('Informe a receita líquida em R$: '))\n",
        "  custo = float(input('Informe o custo em R$: '))\n",
        "  estoques = float(input('Informe o estoque em R$: '))\n",
        "  ctas = float(input('Informe as contas a receber em R$: '))\n",
        "  forne = float(input('Informe os fornecedores em R$: '))\n",
        "  n = int(input('Informe o período do balanço em dias inteiros: '))\n",
        "  pme = (estoques/custo)*n\n",
        "  pmr = (ctas/receita)*n\n",
        "  pmp = (forne/custo)*n\n",
        "  co = pme + pmr\n",
        "  cc = co - pmp\n",
        "  print(f'O Prazo médio de estoques é  aproximadamente {pme:.0f} dias'),\n",
        "  print(f'O Prazo médio de recebimento é  aproximadamente {pmr:.0f} dias'),\n",
        "  print(f'O Prazo médio de pagamento é  aproximadamente {pmp:.0f} dias'),\n",
        "  print(f'O ciclo operacional é  aproximadamente {co:.0f} dias'),\n",
        "  print(f'O Ciclo de caixa é  aproximadamente {cc:.0f} dias')\n",
        "  if pmp > co:\n",
        "    print(f'Essa empresa em média paga {abs(cc):.0f} dias depois de receber')\n",
        "  elif pmp < co:\n",
        "    print(f'Essa empresa em média paga {abs(cc):.0f} dias antes de receber')\n",
        "  else:\n",
        "    print('Essa em média empresa no mesmo dia em que recebe')"
      ],
      "metadata": {
        "id": "lzZS1XblX0TP"
      },
      "execution_count": null,
      "outputs": []
    }
  ]
}