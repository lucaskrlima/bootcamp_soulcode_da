{
  "nbformat": 4,
  "nbformat_minor": 0,
  "metadata": {
    "colab": {
      "provenance": [],
      "authorship_tag": "ABX9TyM2YLkPUoLK/h8PcMvlGqJx",
      "include_colab_link": true
    },
    "kernelspec": {
      "name": "python3",
      "display_name": "Python 3"
    },
    "language_info": {
      "name": "python"
    }
  },
  "cells": [
    {
      "cell_type": "markdown",
      "metadata": {
        "id": "view-in-github",
        "colab_type": "text"
      },
      "source": [
        "<a href=\"https://colab.research.google.com/github/lucaskrlima/bootcamp_soulcode_da/blob/main/Exercicio_Aula_31.ipynb\" target=\"_parent\"><img src=\"https://colab.research.google.com/assets/colab-badge.svg\" alt=\"Open In Colab\"/></a>"
      ]
    },
    {
      "cell_type": "code",
      "execution_count": null,
      "metadata": {
        "id": "3gptH6ZYr9fq"
      },
      "outputs": [],
      "source": [
        "'''\n",
        "Exercício aula 31\n",
        "\n",
        "Escolha uma das 8 tabelas do colab\n",
        "e faça pelo menos\n",
        "\n",
        "1 coleta de linha específica inteira,\n",
        "1 coleta de valor específico,\n",
        "1 Renomear de colunas\n",
        "1 Adição de colunas\n",
        "1\n",
        "'''\n"
      ]
    },
    {
      "cell_type": "code",
      "source": [
        "# instalação bibliotecas\n",
        "!apt-get install openjdk-8-jdk-headless -qq > /dev/null\n",
        "!wget -q http://archive.apache.org/dist/spark/spark-3.1.1/spark-3.1.1-bin-hadoop3.2.tgz\n",
        "!tar xf spark-3.1.1-bin-hadoop3.2.tgz\n",
        "!pip install -q findspark"
      ],
      "metadata": {
        "id": "cQkp6AK-scFa"
      },
      "execution_count": null,
      "outputs": []
    },
    {
      "cell_type": "code",
      "source": [
        "# Criando ambiente virtual\n",
        "import os\n",
        "os.environ[\"JAVA_HOME\"] = \"/usr/lib/jvm/java-8-openjdk-amd64\"\n",
        "os.environ[\"SPARK_HOME\"] = \"/content/spark-3.1.1-bin-hadoop3.2\""
      ],
      "metadata": {
        "id": "qp61IivUsu9v"
      },
      "execution_count": null,
      "outputs": []
    },
    {
      "cell_type": "code",
      "source": [
        "# Criando cluster pyspark\n",
        "import findspark\n",
        "findspark.init()\n",
        "from pyspark.sql import SparkSession\n",
        "spark = SparkSession.builder.master(\"local[*]\").getOrCreate()\n",
        "from pyspark.sql.functions import regexp_replace\n",
        "spark.conf.set(\"spark.sql.repl.eagerEval.enabled\", True) # Para deixar a visualição das tabelas mais amigável\n",
        "spark"
      ],
      "metadata": {
        "colab": {
          "base_uri": "https://localhost:8080/",
          "height": 219
        },
        "id": "ux3QNpsls20v",
        "outputId": "67b00648-891c-4c4d-ba36-6638e3615012"
      },
      "execution_count": null,
      "outputs": [
        {
          "output_type": "execute_result",
          "data": {
            "text/plain": [
              "<pyspark.sql.session.SparkSession at 0x7cecec23df60>"
            ],
            "text/html": [
              "\n",
              "            <div>\n",
              "                <p><b>SparkSession - in-memory</b></p>\n",
              "                \n",
              "        <div>\n",
              "            <p><b>SparkContext</b></p>\n",
              "\n",
              "            <p><a href=\"http://b70333200b66:4040\">Spark UI</a></p>\n",
              "\n",
              "            <dl>\n",
              "              <dt>Version</dt>\n",
              "                <dd><code>v3.1.1</code></dd>\n",
              "              <dt>Master</dt>\n",
              "                <dd><code>local[*]</code></dd>\n",
              "              <dt>AppName</dt>\n",
              "                <dd><code>pyspark-shell</code></dd>\n",
              "            </dl>\n",
              "        </div>\n",
              "        \n",
              "            </div>\n",
              "        "
            ]
          },
          "metadata": {},
          "execution_count": 3
        }
      ]
    },
    {
      "cell_type": "code",
      "source": [
        "# importando funções sql do pyspark\n",
        "from pyspark.sql.functions import *"
      ],
      "metadata": {
        "id": "1Ezta3hItX0v"
      },
      "execution_count": null,
      "outputs": []
    },
    {
      "cell_type": "code",
      "source": [
        "# Realizando leitura dos dados: customers\n",
        "df_customers = spark.read.format(\"csv\")\\\n",
        "    .option(\"inferSchema\", \"true\")\\\n",
        "    .option(\"header\", \"true\")\\\n",
        "    .load('/content/customers.csv')"
      ],
      "metadata": {
        "id": "R9oU4cy4s9HP"
      },
      "execution_count": null,
      "outputs": []
    },
    {
      "cell_type": "code",
      "source": [
        "# Visualizando as 5 primeiras linhas do dataframe\n",
        "df_customers.show(5)\n",
        "\n"
      ],
      "metadata": {
        "colab": {
          "base_uri": "https://localhost:8080/"
        },
        "id": "yd5NZ4e3tfYW",
        "outputId": "1172c154-0d47-4cd0-df0f-e69a6b8d8ba2"
      },
      "execution_count": null,
      "outputs": [
        {
          "output_type": "stream",
          "name": "stdout",
          "text": [
            "+--------------------+--------------------+------------------------+--------------------+--------------+\n",
            "|         customer_id|  customer_unique_id|customer_zip_code_prefix|       customer_city|customer_state|\n",
            "+--------------------+--------------------+------------------------+--------------------+--------------+\n",
            "|06b8999e2fba1a1fb...|861eff4711a542e4b...|                   14409|              franca|            SP|\n",
            "|18955e83d337fd6b2...|290c77bc529b7ac93...|                    9790|sao bernardo do c...|            SP|\n",
            "|4e7b3e00288586ebd...|060e732b5b29e8181...|                    1151|           sao paulo|            SP|\n",
            "|b2b6027bc5c5109e5...|259dac757896d24d7...|                    8775|     mogi das cruzes|            SP|\n",
            "|4f2d8ab171c80ec83...|345ecd01c38d18a90...|                   13056|            campinas|            SP|\n",
            "+--------------------+--------------------+------------------------+--------------------+--------------+\n",
            "only showing top 5 rows\n",
            "\n"
          ]
        }
      ]
    },
    {
      "cell_type": "code",
      "source": [
        "#Coletando dado de uma linha específica inteira\n",
        "df_customers.collect()[5]"
      ],
      "metadata": {
        "colab": {
          "base_uri": "https://localhost:8080/"
        },
        "id": "7Ae7uz0Ct5r6",
        "outputId": "701a43d3-1012-4c11-ddeb-fd3d27aff09e"
      },
      "execution_count": null,
      "outputs": [
        {
          "output_type": "execute_result",
          "data": {
            "text/plain": [
              "Row(customer_id='879864dab9bc3047522c92c82e1212b8', customer_unique_id='4c93744516667ad3b8f1fb645a3116a4', customer_zip_code_prefix=89254, customer_city='jaragua do sul', customer_state='SC')"
            ]
          },
          "metadata": {},
          "execution_count": 10
        }
      ]
    },
    {
      "cell_type": "code",
      "source": [
        "#Coletando um valor específico na quarta linha e terceira coluna\n",
        "df_customers.collect()[4][3]\n"
      ],
      "metadata": {
        "colab": {
          "base_uri": "https://localhost:8080/",
          "height": 35
        },
        "id": "gmEoSBaGvqdj",
        "outputId": "a372abbc-b2f7-4d01-b745-ccba02536e5f"
      },
      "execution_count": null,
      "outputs": [
        {
          "output_type": "execute_result",
          "data": {
            "text/plain": [
              "'campinas'"
            ],
            "application/vnd.google.colaboratory.intrinsic+json": {
              "type": "string"
            }
          },
          "metadata": {},
          "execution_count": 39
        }
      ]
    },
    {
      "cell_type": "code",
      "source": [
        "# Renomeando colunas\n",
        "df_py = df_customers.withColumnRenamed(\"customer_zip_code_prefix\",\"cep\").withColumnRenamed(\"customer_city\",\"cidade\").withColumnRenamed(\"customer_state\",\"estado\")\n",
        "df_py.show(5)"
      ],
      "metadata": {
        "colab": {
          "base_uri": "https://localhost:8080/"
        },
        "id": "Nr1II-k1yIKV",
        "outputId": "7ea4c71a-4031-4049-fd11-5e7bfbf0810d"
      },
      "execution_count": null,
      "outputs": [
        {
          "output_type": "stream",
          "name": "stdout",
          "text": [
            "+--------------------+--------------------+-----+--------------------+------+\n",
            "|         customer_id|  customer_unique_id|  cep|              cidade|estado|\n",
            "+--------------------+--------------------+-----+--------------------+------+\n",
            "|06b8999e2fba1a1fb...|861eff4711a542e4b...|14409|              franca|    SP|\n",
            "|18955e83d337fd6b2...|290c77bc529b7ac93...| 9790|sao bernardo do c...|    SP|\n",
            "|4e7b3e00288586ebd...|060e732b5b29e8181...| 1151|           sao paulo|    SP|\n",
            "|b2b6027bc5c5109e5...|259dac757896d24d7...| 8775|     mogi das cruzes|    SP|\n",
            "|4f2d8ab171c80ec83...|345ecd01c38d18a90...|13056|            campinas|    SP|\n",
            "+--------------------+--------------------+-----+--------------------+------+\n",
            "only showing top 5 rows\n",
            "\n"
          ]
        }
      ]
    },
    {
      "cell_type": "code",
      "source": [
        "# Adicionando coluna 'pais' no dataframe\n",
        "df_py2 = df_py.withColumn(\"pais\", expr(\"'BR'\"))\n",
        "df_py2.show(5)"
      ],
      "metadata": {
        "colab": {
          "base_uri": "https://localhost:8080/"
        },
        "id": "eOcOkhX6zkev",
        "outputId": "d8ef49d9-108d-478c-edc4-9228c70e7492"
      },
      "execution_count": null,
      "outputs": [
        {
          "output_type": "stream",
          "name": "stdout",
          "text": [
            "+--------------------+--------------------+-----+--------------------+------+----+\n",
            "|         customer_id|  customer_unique_id|  cep|              cidade|estado|pais|\n",
            "+--------------------+--------------------+-----+--------------------+------+----+\n",
            "|06b8999e2fba1a1fb...|861eff4711a542e4b...|14409|              franca|    SP|  BR|\n",
            "|18955e83d337fd6b2...|290c77bc529b7ac93...| 9790|sao bernardo do c...|    SP|  BR|\n",
            "|4e7b3e00288586ebd...|060e732b5b29e8181...| 1151|           sao paulo|    SP|  BR|\n",
            "|b2b6027bc5c5109e5...|259dac757896d24d7...| 8775|     mogi das cruzes|    SP|  BR|\n",
            "|4f2d8ab171c80ec83...|345ecd01c38d18a90...|13056|            campinas|    SP|  BR|\n",
            "+--------------------+--------------------+-----+--------------------+------+----+\n",
            "only showing top 5 rows\n",
            "\n"
          ]
        }
      ]
    }
  ]
}